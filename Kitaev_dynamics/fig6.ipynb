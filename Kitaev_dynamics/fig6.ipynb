{
 "cells": [
  {
   "cell_type": "code",
   "execution_count": 2,
   "id": "8b191e44",
   "metadata": {},
   "outputs": [
    {
     "name": "stderr",
     "output_type": "stream",
     "text": [
      "/var/folders/_6/0kk73yx927x6htqwlt_crj_w0000gn/T/ipykernel_10797/217819099.py:26: ComplexWarning: Casting complex values to real discards the imaginary part\n",
      "  C_distance_1[i] += np.exp(1j*(k1+k2)*distance)\n",
      "/var/folders/_6/0kk73yx927x6htqwlt_crj_w0000gn/T/ipykernel_10797/217819099.py:28: ComplexWarning: Casting complex values to real discards the imaginary part\n",
      "  C_distance_2[i] += np.exp(1j*(k1+k2)*distance-1j *k1   )\n",
      "/var/folders/_6/0kk73yx927x6htqwlt_crj_w0000gn/T/ipykernel_10797/217819099.py:30: ComplexWarning: Casting complex values to real discards the imaginary part\n",
      "  C_distance_1[i] += np.exp(1j*(k1-k2)/2)\n",
      "/var/folders/_6/0kk73yx927x6htqwlt_crj_w0000gn/T/ipykernel_10797/217819099.py:31: ComplexWarning: Casting complex values to real discards the imaginary part\n",
      "  C_distance_2[i] += np.exp(-1j*(k1+k2)/2)\n"
     ]
    }
   ],
   "source": [
    "import numpy as np\n",
    "import matplotlib\n",
    "from matplotlib import pyplot as plt\n",
    "# import seaborn as sns\n",
    "from matplotlib.pyplot import MultipleLocator\n",
    "from matplotlib import rcParams\n",
    "from matplotlib import cm\n",
    "from mpl_toolkits.mplot3d import Axes3D\n",
    "from scipy.linalg import expm\n",
    "from numba import jit,njit\n",
    "from numpy.linalg import eig\n",
    "\n",
    "N = 30\n",
    "kappa = 0\n",
    "k_list = np.arange(2 * np.pi / N, 2*np.pi, 2*np.pi/N)\n",
    "distance = 20\n",
    "C_distance_1 = 0\n",
    "C_distance_2 = 0 \n",
    "distance_list = range(20)\n",
    "C_distance_1 = np.zeros(len(distance_list),)\n",
    "C_distance_2 = np.zeros(len(distance_list),) \n",
    "for i, distance in enumerate(distance_list):\n",
    "    for xx,k1 in enumerate(k_list):\n",
    "        for yy,k2 in enumerate(k_list):\n",
    "            if xx + yy != N-2:\n",
    "                C_distance_1[i] += np.exp(1j*(k1+k2)*distance)\n",
    "\n",
    "                C_distance_2[i] += np.exp(1j*(k1+k2)*distance-1j *k1   )\n",
    "\n",
    "            C_distance_1[i] += np.exp(1j*(k1-k2)/2)\n",
    "            C_distance_2[i] += np.exp(-1j*(k1+k2)/2)\n",
    "\n",
    "C_distance_1 /= 4*N**2\n",
    "C_distance_2 /= -4*N**2"
   ]
  },
  {
   "cell_type": "code",
   "execution_count": null,
   "id": "1a228af5",
   "metadata": {},
   "outputs": [],
   "source": [
    "\n",
    "kappa = 0\n",
    "k_list = np.arange(2 * np.pi / N, 2*np.pi, 2*np.pi/N)\n",
    "distance = 20\n",
    "C_distance_1 = 0\n",
    "C_distance_2 = 0 \n",
    "N_list = np.arange(10, 150, 10)\n",
    "C_distance_1 = np.zeros((len(N_list),),dtype=np.complex128)\n",
    "C_distance_2 = np.zeros((len(N_list),),dtype=np.complex128) \n",
    "for i, N in enumerate(N_list):\n",
    "    k_list = np.arange(2 * np.pi / N, 2*np.pi, 2*np.pi/N)\n",
    "    distance = N//10\n",
    "    for xx,k1 in enumerate(k_list):\n",
    "        for yy,k2 in enumerate(k_list):\n",
    "            if xx + yy != N-2:\n",
    "                C_distance_1[i] += np.exp(1j*(k1+k2)*distance)\n",
    "\n",
    "                C_distance_2[i] += np.exp(1j*(k1+k2)*distance-1j *k1   )\n",
    "\n",
    "            C_distance_1[i] += np.exp(1j*(k1-k2)/2)\n",
    "            C_distance_2[i] += np.exp(-1j*(k1+k2)/2)\n",
    "    C_distance_1[i] /= 4*N**2\n",
    "    C_distance_2[i] /= 4*N**2\n",
    "\n"
   ]
  },
  {
   "cell_type": "code",
   "execution_count": 64,
   "id": "9afddbc0",
   "metadata": {},
   "outputs": [],
   "source": [
    "np.savez('fig5.npz', N_list = N_list, C_distance_1=C_distance_1, C_distance_2=C_distance_2,Correlation_r =Correlation_r)"
   ]
  },
  {
   "cell_type": "code",
   "execution_count": 128,
   "id": "8bd6c830",
   "metadata": {},
   "outputs": [
    {
     "data": {
      "text/plain": [
       "(array([-0.10132117-7.0836161e-17j]),\n",
       " array([0.10128994+3.7130546e-18j]),\n",
       " 0.10132118364233778)"
      ]
     },
     "execution_count": 128,
     "metadata": {},
     "output_type": "execute_result"
    }
   ],
   "source": [
    "C_distance_2, C_distance_1,1/np.pi**2"
   ]
  },
  {
   "cell_type": "code",
   "execution_count": 115,
   "id": "11fda976",
   "metadata": {},
   "outputs": [
    {
     "name": "stderr",
     "output_type": "stream",
     "text": [
      "/opt/anaconda3/envs/python39/lib/python3.9/site-packages/matplotlib/cbook.py:1762: ComplexWarning: Casting complex values to real discards the imaginary part\n",
      "  return math.isfinite(val)\n",
      "/opt/anaconda3/envs/python39/lib/python3.9/site-packages/matplotlib/cbook.py:1398: ComplexWarning: Casting complex values to real discards the imaginary part\n",
      "  return np.asarray(x, float)\n"
     ]
    },
    {
     "data": {
      "text/plain": [
       "(0.1, 0.102)"
      ]
     },
     "execution_count": 115,
     "metadata": {},
     "output_type": "execute_result"
    },
    {
     "data": {
      "image/png": "[encoded data removed]",
      "text/plain": [
       "<Figure size 640x480 with 1 Axes>"
      ]
     },
     "metadata": {},
     "output_type": "display_data"
    }
   ],
   "source": [
    "plt.plot((N_list),np.abs((C_distance_1)))\n",
    "plt.plot((N_list),-(C_distance_2))\n",
    "plt.plot((N_list),np.ones(len(N_list),)*1/np.pi**2)\n",
    "plt.ylim((0.1,0.102))"
   ]
  },
  {
   "cell_type": "code",
   "execution_count": 43,
   "id": "c7a7b54d",
   "metadata": {},
   "outputs": [],
   "source": [
    "#####################################################################\n",
    "#                   example 5 (DEPRECATED)                          #\n",
    "#    In this script we demonstrate how to use QuSpin's to build     #\n",
    "#    the Hamiltonian of the SSH model in real and momentum space.   #\n",
    "#    Along the way, we showcase the block tools which allow the     #\n",
    "#    user to create block-diagonal Hamiltonians. Last, we show      #\n",
    "#    how to time-evolve free fermion states like the Fermi sea      #\n",
    "#    and measure correlators.                                       #\n",
    "#####################################################################\n",
    "from quspin.operators import hamiltonian, exp_op  # Hamiltonians and operators\n",
    "from quspin.basis import spinless_fermion_basis_1d  # Hilbert space fermion basis\n",
    "from quspin.tools.block_tools import block_diag_hamiltonian  # block diagonalisation\n",
    "\n",
    "from quspin.tools.evolution import expm_multiply_parallel\n",
    "import numpy as np  # generic math functions\n",
    "import matplotlib.pyplot as plt  # plotting library\n",
    "from quspin.operators import commutator\n",
    "\n",
    "##### define model parameters #####\n",
    "L = 20  # system size\n",
    "J = 1.0  # uniform hopping\n",
    "mu = 0.0 # bond dimerisation\n",
    "Delta = 1.0  # staggered potential\n",
    "delta = 0.4\n",
    "##### construct single-particle Hamiltonian #####\n",
    "# define site-coupling lists\n",
    "hop_pm = [[-J , i, (i + 1) % L] for i in range(L)]  \n",
    "hop_mp = [[+J , i, (i + 1) % L] for i in range(L)]  \n",
    "hop_mm = [[Delta + (-1)**i*delta , i, (i + 1) % L] for i in range(L)]  \n",
    "hop_pp = [[-Delta + (-1)**i*delta , i, (i + 1) % L] for i in range(L)]  \n",
    "stagg_pot = [[2*mu , i] for i in range(L)]\n",
    "# define static and dynamic lists\n",
    "static = [[\"+-\", hop_pm], [\"-+\", hop_mp],[\"++\", hop_pp],[\"--\", hop_mm], [\"z\", stagg_pot]]\n",
    "dynamic = []\n",
    "# define basis\n",
    "\n",
    "\n",
    "basis = spinless_fermion_basis_1d(L, Nf=range(1, L+1, 2)) \n",
    "# build real-space Hamiltonian\n",
    "H = hamiltonian(static, dynamic, basis=basis, dtype=np.complex128,check_pcon=False,check_symm=False,check_herm=False)\n",
    "\n",
    "static = [[\"I\", [[1. , i] for i in [1]]]]  # 恒等算符\n",
    "Identity = hamiltonian(static, [], basis=basis, dtype=np.float64,check_symm=False,check_herm=False)\n",
    "\n",
    "\n",
    "Operator_p = [[1/2 * np.sqrt(1-mu**2 ) * (mu**(i)+ mu**(L-i-1)), i] for i in range(L)]\n",
    "Operator_m = [[1/2 * np.sqrt(1-mu**2) * (mu**(i)- mu**(L-i-1)), i] for i in range(L)]\n",
    "static = [[\"+\", Operator_p], [\"-\", Operator_m]]\n",
    "D = hamiltonian(static, dynamic, basis=basis, dtype=np.complex128,check_pcon=False,check_herm=False,check_symm=False)\n",
    "D_dagger = D.conj().T\n",
    "\n",
    "Operator_p = [[1/(np.sqrt(2 * (mu**(2*(L-1))+1 ))) * (mu**(i)+ mu**(L-i-1)), i] for i in range(1)]\n",
    "Operator_m = [[1/(np.sqrt(2 * (mu**(2*(L-1))+1 ))) * (mu**(i)- mu**(L-i-1)), i] for i in range(1)]\n",
    "static = [[\"+\", Operator_p], [\"-\", Operator_m]]\n",
    "D_1 = hamiltonian(static, dynamic, basis=basis, dtype=np.complex128,check_pcon=False,check_herm=False,check_symm=False)\n",
    "D1_dagger = D_1.conj().T\n",
    "\n",
    "\n"
   ]
  },
  {
   "cell_type": "code",
   "execution_count": 4,
   "id": "fdcb0ed7",
   "metadata": {},
   "outputs": [
    {
     "name": "stdout",
     "output_type": "stream",
     "text": [
      "reference states: \n",
      "array index   /   Fock state   /   integer repr. \n",
      "      0.  |1 1 1 1 1 1 1 1 1 1 1 1 1 1 1 1 1 1 1 1>  1048575 \n",
      "      1.  |1 1 1 1 1 1 1 1 1 1 1 1 1 1 1 1 1 1 0 0>  1048572 \n",
      "      2.  |1 1 1 1 1 1 1 1 1 1 1 1 1 1 1 1 1 0 1 0>  1048570 \n",
      "      3.  |1 1 1 1 1 1 1 1 1 1 1 1 1 1 1 1 1 0 0 1>  1048569 \n",
      "      4.  |1 1 1 1 1 1 1 1 1 1 1 1 1 1 1 1 0 1 1 0>  1048566 \n",
      "      5.  |1 1 1 1 1 1 1 1 1 1 1 1 1 1 1 1 0 1 0 1>  1048565 \n",
      "      6.  |1 1 1 1 1 1 1 1 1 1 1 1 1 1 1 1 0 0 1 1>  1048563 \n",
      "      7.  |1 1 1 1 1 1 1 1 1 1 1 1 1 1 1 1 0 0 0 0>  1048560 \n",
      "      8.  |1 1 1 1 1 1 1 1 1 1 1 1 1 1 1 0 1 1 1 0>  1048558 \n",
      "      9.  |1 1 1 1 1 1 1 1 1 1 1 1 1 1 1 0 1 1 0 1>  1048557 \n",
      "     10.  |1 1 1 1 1 1 1 1 1 1 1 1 1 1 1 0 1 0 1 1>  1048555 \n",
      "     11.  |1 1 1 1 1 1 1 1 1 1 1 1 1 1 1 0 1 0 0 0>  1048552 \n",
      "     12.  |1 1 1 1 1 1 1 1 1 1 1 1 1 1 1 0 0 1 1 1>  1048551 \n",
      "     13.  |1 1 1 1 1 1 1 1 1 1 1 1 1 1 1 0 0 1 0 0>  1048548 \n",
      "     14.  |1 1 1 1 1 1 1 1 1 1 1 1 1 1 1 0 0 0 1 0>  1048546 \n",
      "     15.  |1 1 1 1 1 1 1 1 1 1 1 1 1 1 1 0 0 0 0 1>  1048545 \n",
      "     16.  |1 1 1 1 1 1 1 1 1 1 1 1 1 1 0 1 1 1 1 0>  1048542 \n",
      "     17.  |1 1 1 1 1 1 1 1 1 1 1 1 1 1 0 1 1 1 0 1>  1048541 \n",
      "     18.  |1 1 1 1 1 1 1 1 1 1 1 1 1 1 0 1 1 0 1 1>  1048539 \n",
      "     19.  |1 1 1 1 1 1 1 1 1 1 1 1 1 1 0 1 1 0 0 0>  1048536 \n",
      "     20.  |1 1 1 1 1 1 1 1 1 1 1 1 1 1 0 1 0 1 1 1>  1048535 \n",
      "     21.  |1 1 1 1 1 1 1 1 1 1 1 1 1 1 0 1 0 1 0 0>  1048532 \n",
      "     22.  |1 1 1 1 1 1 1 1 1 1 1 1 1 1 0 1 0 0 1 0>  1048530 \n",
      "     23.  |1 1 1 1 1 1 1 1 1 1 1 1 1 1 0 1 0 0 0 1>  1048529 \n",
      "     24.  |1 1 1 1 1 1 1 1 1 1 1 1 1 1 0 0 1 1 1 1>  1048527 \n",
      "                             :\n",
      " 524263.  |0 0 0 0 0 0 0 0 0 0 0 0 0 0 1 1 0 0 0 0>       48 \n",
      " 524264.  |0 0 0 0 0 0 0 0 0 0 0 0 0 0 1 0 1 1 1 0>       46 \n",
      " 524265.  |0 0 0 0 0 0 0 0 0 0 0 0 0 0 1 0 1 1 0 1>       45 \n",
      " 524266.  |0 0 0 0 0 0 0 0 0 0 0 0 0 0 1 0 1 0 1 1>       43 \n",
      " 524267.  |0 0 0 0 0 0 0 0 0 0 0 0 0 0 1 0 1 0 0 0>       40 \n",
      " 524268.  |0 0 0 0 0 0 0 0 0 0 0 0 0 0 1 0 0 1 1 1>       39 \n",
      " 524269.  |0 0 0 0 0 0 0 0 0 0 0 0 0 0 1 0 0 1 0 0>       36 \n",
      " 524270.  |0 0 0 0 0 0 0 0 0 0 0 0 0 0 1 0 0 0 1 0>       34 \n",
      " 524271.  |0 0 0 0 0 0 0 0 0 0 0 0 0 0 1 0 0 0 0 1>       33 \n",
      " 524272.  |0 0 0 0 0 0 0 0 0 0 0 0 0 0 0 1 1 1 1 0>       30 \n",
      " 524273.  |0 0 0 0 0 0 0 0 0 0 0 0 0 0 0 1 1 1 0 1>       29 \n",
      " 524274.  |0 0 0 0 0 0 0 0 0 0 0 0 0 0 0 1 1 0 1 1>       27 \n",
      " 524275.  |0 0 0 0 0 0 0 0 0 0 0 0 0 0 0 1 1 0 0 0>       24 \n",
      " 524276.  |0 0 0 0 0 0 0 0 0 0 0 0 0 0 0 1 0 1 1 1>       23 \n",
      " 524277.  |0 0 0 0 0 0 0 0 0 0 0 0 0 0 0 1 0 1 0 0>       20 \n",
      " 524278.  |0 0 0 0 0 0 0 0 0 0 0 0 0 0 0 1 0 0 1 0>       18 \n",
      " 524279.  |0 0 0 0 0 0 0 0 0 0 0 0 0 0 0 1 0 0 0 1>       17 \n",
      " 524280.  |0 0 0 0 0 0 0 0 0 0 0 0 0 0 0 0 1 1 1 1>       15 \n",
      " 524281.  |0 0 0 0 0 0 0 0 0 0 0 0 0 0 0 0 1 1 0 0>       12 \n",
      " 524282.  |0 0 0 0 0 0 0 0 0 0 0 0 0 0 0 0 1 0 1 0>       10 \n",
      " 524283.  |0 0 0 0 0 0 0 0 0 0 0 0 0 0 0 0 1 0 0 1>        9 \n",
      " 524284.  |0 0 0 0 0 0 0 0 0 0 0 0 0 0 0 0 0 1 1 0>        6 \n",
      " 524285.  |0 0 0 0 0 0 0 0 0 0 0 0 0 0 0 0 0 1 0 1>        5 \n",
      " 524286.  |0 0 0 0 0 0 0 0 0 0 0 0 0 0 0 0 0 0 1 1>        3 \n",
      " 524287.  |0 0 0 0 0 0 0 0 0 0 0 0 0 0 0 0 0 0 0 0>        0 \n"
     ]
    }
   ],
   "source": [
    "print(basis)"
   ]
  },
  {
   "cell_type": "code",
   "execution_count": null,
   "id": "ad778696",
   "metadata": {},
   "outputs": [],
   "source": [
    "hop_mm1 = [[1, 1,2] ]\n",
    "hop_mm2 = [[1, 9,10] ]\n",
    "static1 = [[\"--\", hop_mm1]]\n",
    "static2 = [[\"--\", hop_mm2]]\n",
    "Operator1 = hamiltonian(static1, dynamic, basis=basis, dtype=np.complex128,check_pcon=False,check_herm=False,check_symm=False)\n",
    "Operator2 = hamiltonian(static2, dynamic, basis=basis, dtype=np.complex128,check_pcon=False,check_herm=False,check_symm=False)\n",
    "# define basis"
   ]
  },
  {
   "cell_type": "code",
   "execution_count": 44,
   "id": "2fbe1fea",
   "metadata": {},
   "outputs": [
    {
     "name": "stdout",
     "output_type": "stream",
     "text": [
      "[1.85962357e-14+5.05100121j] [[ 0.01308336-0.00403436j]\n",
      " [-0.00269625+0.00076972j]\n",
      " [-0.01308336+0.00403436j]\n",
      " ...\n",
      " [-0.00076972-0.00269625j]\n",
      " [-0.00403436-0.01308336j]\n",
      " [ 0.00076972+0.00269625j]]\n"
     ]
    }
   ],
   "source": [
    "from scipy.sparse.linalg import eigs\n",
    "\n",
    "# 假设 H 是 QuSpin 的 Hamiltonian 对象\n",
    "H_mat = H.tocsc()  # 转换为稀疏矩阵（CSC 格式）\n",
    "\n",
    "# 计算前 6 个本征值和本征态（k=6）\n",
    "eigenvalues, eigenvectors = eigs(H_mat, k=1,  which='LI')  # 'LR' 表示最大实部\n",
    "print(eigenvalues,eigenvectors)\n"
   ]
  },
  {
   "cell_type": "code",
   "execution_count": null,
   "id": "aeb43c73",
   "metadata": {},
   "outputs": [
    {
     "name": "stdout",
     "output_type": "stream",
     "text": [
      "reference states: \n",
      "array index   /   Fock state   /   integer repr. \n",
      " 0.  |1 0 0 0>  8 \n",
      "The states printed do NOT correspond to the physical states: see review arXiv:1101.3281 for more details about reference states for symmetry-reduced blocks.\n",
      "\n"
     ]
    }
   ],
   "source": []
  },
  {
   "cell_type": "code",
   "execution_count": 110,
   "id": "28842b6a",
   "metadata": {},
   "outputs": [
    {
     "name": "stderr",
     "output_type": "stream",
     "text": [
      "/opt/anaconda3/envs/python39/lib/python3.9/site-packages/matplotlib/cbook.py:1762: ComplexWarning: Casting complex values to real discards the imaginary part\n",
      "  return math.isfinite(val)\n",
      "/opt/anaconda3/envs/python39/lib/python3.9/site-packages/matplotlib/collections.py:197: ComplexWarning: Casting complex values to real discards the imaginary part\n",
      "  offsets = np.asanyarray(offsets, float)\n"
     ]
    },
    {
     "data": {
      "image/png": "[encoded data removed]",
      "text/plain": [
       "<Figure size 640x480 with 1 Axes>"
      ]
     },
     "metadata": {},
     "output_type": "display_data"
    }
   ],
   "source": [
    "eigenvectors = eigenvectors/np.sqrt(np.vdot(eigenvectors,eigenvectors))\n",
    "C = np.zeros((int(L/2),),dtype=np.complex128)\n",
    "for i in range(L//2):\n",
    "    hop_mm1 = [[1, 1,2] ]\n",
    "    hop_mm2 = [[1, 2+i,3+i] ]\n",
    "    static1 = [[\"--\", hop_mm1]]\n",
    "    static2 = [[\"--\", hop_mm2]]\n",
    "    Operator1 = hamiltonian(static1, dynamic, basis=basis, dtype=np.complex128,check_pcon=False,check_herm=False,check_symm=False)\n",
    "    Operator2 = hamiltonian(static2, dynamic, basis=basis, dtype=np.complex128,check_pcon=False,check_herm=False,check_symm=False)\n",
    "    psi_1 = Operator1.dot(eigenvectors)\n",
    "    psi_2 = Operator2.dot(eigenvectors)\n",
    "    C[i] = np.vdot(psi_2,psi_1)\n",
    "\n",
    "plt.scatter(range(L//4),C[1::2])\n",
    "Correlation_r = C"
   ]
  },
  {
   "cell_type": "code",
   "execution_count": 111,
   "id": "db7aac0d",
   "metadata": {},
   "outputs": [
    {
     "data": {
      "text/plain": [
       "array([-0.12514591+2.63771964e-17j,  0.09715865+1.66179344e-17j,\n",
       "       -0.10215865+1.82093242e-18j,  0.09715865+2.50774111e-17j,\n",
       "       -0.10215865+3.69319293e-17j,  0.09715865+2.01590016e-17j,\n",
       "       -0.10215865+1.35718494e-17j,  0.09715865+1.89791492e-17j,\n",
       "       -0.10215865+6.58565393e-18j,  0.09715865+3.10856983e-18j])"
      ]
     },
     "execution_count": 111,
     "metadata": {},
     "output_type": "execute_result"
    }
   ],
   "source": [
    "C"
   ]
  },
  {
   "cell_type": "code",
   "execution_count": 4,
   "id": "0d83870f",
   "metadata": {},
   "outputs": [],
   "source": [
    "XX  = np.load('fig6.npz')\n",
    "\n",
    "# np.savez('fig5.npz', N_list = N_list, C_distance_1=C_distance_1, C_distance_2=C_distance_2,Correlation_r =Correlation_r)\n",
    "\n",
    "N_list = XX['N_list']\n",
    "C_distance_1 = XX['C_distance_1']\n",
    "C_distance_2 = XX['C_distance_2']\n",
    "Correlation_r = XX['Correlation_r']"
   ]
  },
  {
   "cell_type": "code",
   "execution_count": 6,
   "id": "99021fb3",
   "metadata": {},
   "outputs": [
    {
     "data": {
      "image/png": "[encoded data removed]",
      "text/plain": [
       "<Figure size 1500x400 with 3 Axes>"
      ]
     },
     "metadata": {},
     "output_type": "display_data"
    }
   ],
   "source": [
    "import matplotlib.ticker as ticker\n",
    "\n",
    "plt.rcParams.update({\n",
    "    \"text.usetex\": True,             # 启用 LaTeX 渲染\n",
    "    \"font.family\": \"serif\",          # sans-serif:标题不会改成latex字体serif:标题会变成latex\n",
    "    \"font.serif\": [\"Computer Modern\"],  # 使用 Computer Modern 字体\n",
    "    \"text.latex.preamble\": r\"\\usepackage{amsmath}\"  # 如果需要数学包\n",
    "})\n",
    "font_size = 22\n",
    "C1 = ['#2878B5','#9AC9DB','#F8AC8C', '#C82423']\n",
    "C2 = ['#7AB656','#9251B0','#A5AEB7', '#CC7C71']\n",
    "fig, axs = plt.subplots(nrows=1, ncols=3, figsize=(15, 4))\n",
    "C = ['#0079fa','#1c88fb','#3997fb','#55a6fc','#8ec3fd','#aad2fd']\n",
    "\n",
    "L = 20\n",
    "axs[0].plot(np.linspace(-1,L//2+1,10),np.ones(10,)/np.pi**2,c = C2[0],ls = \"--\" , lw = 2)\n",
    "axs[0].plot(np.linspace(-1,L//2+1,10),-np.ones(10,)/np.pi**2,c = C2[1],ls = \"--\",lw = 2)\n",
    "axs[0].scatter(range(2,L//2+1,2),Correlation_r[1::2],\n",
    "    marker=\"D\",        # 实心方形\n",
    "    s=60,\n",
    "    color=\"#2878B5\",   # 橙色（默认Matplotlib第二颜色）\n",
    "    edgecolor=\"black\",\n",
    "    linewidth=0.5,\n",
    "    label=r\"$C_{jj'}^1$\")\n",
    "\n",
    "axs[0].scatter(range(1,L//2+1,2),Correlation_r[::2],\n",
    "    marker=\"o\",        # 实心圆\n",
    "    s=60,             # 点大小\n",
    "    color=\"#F8AC8C\",  # 蓝色（默认Matplotlib第一颜色）\n",
    "    edgecolor=\"black\",\n",
    "    linewidth=0.5,\n",
    "    label=r\"$C_{jj'}^2$\"\n",
    "               )\n",
    "\n",
    "label = axs[0].legend( loc='right', prop={'size': font_size },ncol=1,   shadow=True, handleheight=0.5, handlelength=0.8)\n",
    "\n",
    "axs[0].xaxis.set_major_locator(MultipleLocator(2))\n",
    "# axs[0].xaxis.set_minor_locator(MultipleLocator(0.5))\n",
    "axs[0].yaxis.set_minor_locator(MultipleLocator(0.02))\n",
    "axs[0].yaxis.set_major_locator(MultipleLocator(0.5))\n",
    "axs[0].set_xlabel(r'Distance $\\Delta j $', size=font_size)\n",
    "axs[0].set_ylabel(r'Correlator $C_{jj^{\\prime}}$', size=font_size)\n",
    "axs[0].tick_params(labelsize=font_size)\n",
    "axs[0].set_xlim((0.6,10.1))\n",
    "axs[0].set_ylim((-0.14,0.11))\n",
    "\n",
    "\n",
    "# 1. 获取当前y轴刻度位置并添加新刻度\n",
    "current_ticks = list(axs[0].get_yticks())\n",
    "new_tick1 = 1/np.pi**2  # 你想要添加的刻度值\n",
    "current_ticks.append(new_tick1)\n",
    "new_tick2 = -1/np.pi**2  # 你想要添加的刻度值\n",
    "current_ticks.append(new_tick2)\n",
    "current_ticks.sort()  # 保持刻度有序\n",
    "\n",
    "# 2. 设置刻度位置和格式\n",
    "axs[0].yaxis.set_major_locator(ticker.FixedLocator(current_ticks))\n",
    "\n",
    "# 3. 单独设置新刻度的显示样式（红色加粗）\n",
    "axs[0].yaxis.set_major_formatter(ticker.FixedFormatter(\n",
    "    [fr\"${x:.0f}$\" if not (np.isclose(x, new_tick1) or np.isclose(x, new_tick2)) \n",
    "     else r\"${1}/{\\pi^2}$\" if np.isclose(x, new_tick1) \n",
    "     else r\"$-{1}/{\\pi^2}$\" for x in current_ticks]\n",
    "))\n",
    "\n",
    "axs[1].plot(N_list,C_distance_1,c = C1[0],lw = 2)\n",
    "axs[1].plot(N_list,np.ones(len(N_list),)/np.pi**2,c = C2[0],ls = \"--\",lw = 2)\n",
    "axs[1].set_xlim((10,1000))\n",
    "axs[1].set_ylim((0.078,0.1025))\n",
    "axs[1].xaxis.set_major_locator(MultipleLocator(200))\n",
    "axs[1].xaxis.set_minor_locator(MultipleLocator(40))\n",
    "axs[1].yaxis.set_major_locator(MultipleLocator(0.012))\n",
    "axs[1].yaxis.set_minor_locator(MultipleLocator(0.002))\n",
    "axs[1].set_xlabel(r'Length $N $', size=font_size)\n",
    "axs[1].set_ylabel(r'Correlator $C_{jj^{\\prime}}^1$', size=font_size)\n",
    "\n",
    "# 1. 获取当前y轴刻度位置并添加新刻度\n",
    "current_ticks = list(axs[1].get_yticks())\n",
    "new_tick = 1/np.pi**2  # 你想要添加的刻度值\n",
    "current_ticks.append(new_tick)\n",
    "current_ticks.sort()  # 保持刻度有序\n",
    "\n",
    "# 2. 设置刻度位置和格式\n",
    "axs[1].yaxis.set_major_locator(ticker.FixedLocator(current_ticks))\n",
    "\n",
    "# 3. 单独设置新刻度的显示样式（红色加粗）\n",
    "axs[1].yaxis.set_major_formatter(ticker.FixedFormatter(\n",
    "    [fr\"${x:.3f}$\" if x != new_tick else r\"${1}/{\\pi ^2 }$\" for x in current_ticks]\n",
    "))\n",
    "\n",
    "axs[2].plot(N_list,- np.ones(len(N_list),)/np.pi**2,c = C2[1],ls = \"--\",lw = 2)\n",
    "axs[2].plot(N_list,-C_distance_2,c = C1[2],lw = 2)\n",
    "axs[2].set_xlabel(r'Length $N $', size=font_size)\n",
    "axs[2].set_ylabel(r'Correlator $C_{jj^{\\prime}}^2$', size=font_size)\n",
    "axs[2].set_xlim((10,250))\n",
    "axs[2].set_ylim((-0.1025,-0.095))\n",
    "axs[2].xaxis.set_major_locator(MultipleLocator(50))\n",
    "axs[2].xaxis.set_minor_locator(MultipleLocator(10))\n",
    "axs[2].yaxis.set_major_locator(MultipleLocator(0.003))\n",
    "axs[2].yaxis.set_minor_locator(MultipleLocator(0.0005))\n",
    "\n",
    "# 在原有代码基础上添加以下内容：\n",
    "\n",
    "# 1. 获取当前y轴刻度位置并添加新刻度\n",
    "current_ticks = list(axs[2].get_yticks())\n",
    "new_tick = -1/np.pi**2  # 你想要添加的刻度值\n",
    "current_ticks.append(new_tick)\n",
    "current_ticks.sort()  # 保持刻度有序\n",
    "\n",
    "# 2. 设置刻度位置和格式\n",
    "axs[2].yaxis.set_major_locator(ticker.FixedLocator(current_ticks))\n",
    "\n",
    "# 3. 单独设置新刻度的显示样式（红色加粗）\n",
    "axs[2].yaxis.set_major_formatter(ticker.FixedFormatter(\n",
    "    [fr\"${x:.3f}$\" if x != new_tick else r\"$-{1}/{\\pi ^2 }$\" for x in current_ticks]\n",
    "))\n",
    "\n",
    "# 4. 刷新刻度显示\n",
    "# axs[2].tick_params(axis='y', which='major', labelsize=font_size)\n",
    "\n",
    "for i in range(3):\n",
    "    axs[i].tick_params(which='minor',direction='in', length=4,width=2,axis = \"both\")\n",
    "    axs[i].tick_params(which='major',direction='in', length=7,width=2,labelsize=font_size,axis = \"both\")\n",
    "    axs[i].spines['bottom'].set_linewidth(2)\n",
    "    axs[i].spines['top'].set_linewidth(2)\n",
    "    axs[i].spines['right'].set_linewidth(2)\n",
    "    axs[i].spines['left'].set_linewidth(2)\n",
    "    axs[i].tick_params(labelsize=font_size)\n",
    "axs[0].text(-3, 0.116, '(a)', fontsize=font_size + 3)\n",
    "axs[1].text(-350, 0.103, '(b)', fontsize=font_size + 3)\n",
    "axs[2].text(-100, -0.0949, '(c)', fontsize=font_size + 3)\n",
    "plt.tight_layout()\n",
    "plt.subplots_adjust(wspace=0.5)\n",
    "plt.savefig('fig6.pdf',transparent = True,bbox_inches = 'tight')"
   ]
  },
  {
   "cell_type": "code",
   "execution_count": 202,
   "id": "56cf2f67",
   "metadata": {},
   "outputs": [
    {
     "data": {
      "text/plain": [
       "[np.float64(-0.10400000000000001),\n",
       " np.float64(-0.10200000000000001),\n",
       " np.float64(-0.1),\n",
       " np.float64(-0.098),\n",
       " np.float64(-0.096),\n",
       " np.float64(-0.09400000000000001),\n",
       " 0.10132118364233778]"
      ]
     },
     "execution_count": 202,
     "metadata": {},
     "output_type": "execute_result"
    }
   ],
   "source": [
    "current_ticks"
   ]
  }
 ],
 "metadata": {
  "kernelspec": {
   "display_name": "python39",
   "language": "python",
   "name": "python3"
  },
  "language_info": {
   "codemirror_mode": {
    "name": "ipython",
    "version": 3
   },
   "file_extension": ".py",
   "mimetype": "text/x-python",
   "name": "python",
   "nbconvert_exporter": "python",
   "pygments_lexer": "ipython3",
   "version": "3.9.18"
  }
 },
 "nbformat": 4,
 "nbformat_minor": 5
}
